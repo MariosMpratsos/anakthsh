{
 "cells": [
  {
   "cell_type": "code",
   "execution_count": null,
   "id": "7cb8c487-9763-46d1-8a0e-cc4b4f1b7ed6",
   "metadata": {},
   "outputs": [],
   "source": [
    "# -*- coding: utf-8 -*-\n",
    "\"\"\"\n",
    "Created on Tue Dec 10 21:07:07 2024\n",
    "\n",
    "@author: User\n",
    "\"\"\"\n",
    "\n",
    "def from_num_to_title(doc_num, documents):\n",
    "    return documents[doc_num][\"title\"]\n",
    "\n"
   ]
  }
 ],
 "metadata": {
  "kernelspec": {
   "display_name": "Python 3 (ipykernel)",
   "language": "python",
   "name": "python3"
  },
  "language_info": {
   "codemirror_mode": {
    "name": "ipython",
    "version": 3
   },
   "file_extension": ".py",
   "mimetype": "text/x-python",
   "name": "python",
   "nbconvert_exporter": "python",
   "pygments_lexer": "ipython3",
   "version": "3.12.4"
  }
 },
 "nbformat": 4,
 "nbformat_minor": 5
}
