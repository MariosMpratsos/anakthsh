{
 "cells": [
  {
   "cell_type": "code",
   "execution_count": null,
   "id": "7cb8c487-9763-46d1-8a0e-cc4b4f1b7ed6",
   "metadata": {},
   "outputs": [],
   "source": [
    "import import_ipynb\n",
    "from collections import defaultdict\n",
    "from pre_processing import preprocess_text\n",
    "\n",
    "def create_index(text_content):\n",
    "    inverted_index = defaultdict(list)  # Το ευρετήριο αποθηκεύει λέξεις και τις θέσεις τους\n",
    "    for position, paragraph in enumerate(text_content):\n",
    "        tokens = preprocess_text(paragraph)\n",
    "        for token in tokens:\n",
    "            inverted_index[token].append(position)\n",
    "    return inverted_index"
   ]
  }
 ],
 "metadata": {
  "kernelspec": {
   "display_name": "Python 3 (ipykernel)",
   "language": "python",
   "name": "python3"
  },
  "language_info": {
   "codemirror_mode": {
    "name": "ipython",
    "version": 3
   },
   "file_extension": ".py",
   "mimetype": "text/x-python",
   "name": "python",
   "nbconvert_exporter": "python",
   "pygments_lexer": "ipython3",
   "version": "3.12.4"
  }
 },
 "nbformat": 4,
 "nbformat_minor": 5
}
