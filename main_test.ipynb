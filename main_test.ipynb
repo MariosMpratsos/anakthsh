{
 "cells": [
  {
   "cell_type": "code",
   "execution_count": 1,
   "id": "329c3dae-4759-401b-91b2-bf53b466fc3f",
   "metadata": {},
   "outputs": [],
   "source": [
    "#pip install import-ipynb\n",
    "import import_ipynb"
   ]
  },
  {
   "cell_type": "code",
   "execution_count": 2,
   "id": "4a71295b-33f4-4cdc-9298-7596322b2875",
   "metadata": {},
   "outputs": [
    {
     "name": "stderr",
     "output_type": "stream",
     "text": [
      "[nltk_data] Downloading package punkt to\n",
      "[nltk_data]     C:\\Users\\User\\AppData\\Roaming\\nltk_data...\n",
      "[nltk_data]   Package punkt is already up-to-date!\n",
      "[nltk_data] Downloading package stopwords to\n",
      "[nltk_data]     C:\\Users\\User\\AppData\\Roaming\\nltk_data...\n",
      "[nltk_data]   Package stopwords is already up-to-date!\n"
     ]
    }
   ],
   "source": [
    "from web_scrapper import web_scrapper\n",
    "from Boolean_search import boolean_search\n",
    "from scores import retrieved_relevant_to_precision_recall\n",
    "from scores import f_score"
   ]
  },
  {
   "cell_type": "markdown",
   "id": "d19b1446-a595-4844-a207-39ad22da0b30",
   "metadata": {},
   "source": [
    "# Web Scrapping and Indexing #"
   ]
  },
  {
   "cell_type": "markdown",
   "id": "94055eb6-5144-419a-8411-7884c84b383b",
   "metadata": {},
   "source": [
    "Πρώτα θα διαλέξω ποιούς συνδέσμους θέλω να έχω στο ευρετήριο."
   ]
  },
  {
   "cell_type": "code",
   "execution_count": 5,
   "id": "72dd3719-ca6f-4182-8e2e-8629bfb929c0",
   "metadata": {},
   "outputs": [
    {
     "name": "stdout",
     "output_type": "stream",
     "text": [
      "Choose an option:\n",
      "1. Enter URLs manually.\n",
      "2. Read URLs from links.txt.\n",
      "Type 'STOP' to stop the scraping and save the data.\n"
     ]
    },
    {
     "name": "stdin",
     "output_type": "stream",
     "text": [
      "Enter your choice (1/2):  1\n",
      "Enter URL (or type 'STOP' to stop):  https://en.wikipedia.org/wiki/Bilinear_interpolation\n"
     ]
    },
    {
     "name": "stdout",
     "output_type": "stream",
     "text": [
      "Data for Bilinear interpolation added to the collection.\n",
      "Saving data.\n",
      "Saving data to all_wikipedia_data.json\n",
      "Saving data to all_wikipedia_index.json\n"
     ]
    },
    {
     "name": "stdin",
     "output_type": "stream",
     "text": [
      "Enter URL (or type 'STOP' to stop):  https://en.wikipedia.org/wiki/Quadrilateral\n"
     ]
    },
    {
     "name": "stdout",
     "output_type": "stream",
     "text": [
      "Data for Quadrilateral added to the collection.\n",
      "Saving data.\n",
      "Saving data to all_wikipedia_data.json\n",
      "Saving data to all_wikipedia_index.json\n"
     ]
    },
    {
     "name": "stdin",
     "output_type": "stream",
     "text": [
      "Enter URL (or type 'STOP' to stop):  https://en.wikipedia.org/wiki/Euclidean_geometry\n"
     ]
    },
    {
     "name": "stdout",
     "output_type": "stream",
     "text": [
      "Data for Euclidean geometry added to the collection.\n",
      "Saving data.\n",
      "Saving data to all_wikipedia_data.json\n",
      "Saving data to all_wikipedia_index.json\n"
     ]
    },
    {
     "name": "stdin",
     "output_type": "stream",
     "text": [
      "Enter URL (or type 'STOP' to stop):  stop\n"
     ]
    },
    {
     "name": "stdout",
     "output_type": "stream",
     "text": [
      "Stopping.\n"
     ]
    }
   ],
   "source": [
    "web_scrapper()"
   ]
  },
  {
   "cell_type": "markdown",
   "id": "6e3a9829-da04-4708-b86f-5d261be6e694",
   "metadata": {},
   "source": [
    "Το ευρετήριο αποθηκεύεται στο σύστημα διότι είναι δύσκολο να επαναϋπολογίζεται."
   ]
  },
  {
   "cell_type": "markdown",
   "id": "f954b19d-0700-4011-90f9-0721edd77e3d",
   "metadata": {},
   "source": [
    "# Boolean Search"
   ]
  },
  {
   "cell_type": "markdown",
   "id": "5b37c523-ca95-4861-80db-394d13526938",
   "metadata": {},
   "source": [
    "Η πρώτη μέθοδος που θα ελέγξουμε είναι η boolean αναζήτηση."
   ]
  },
  {
   "cell_type": "markdown",
   "id": "57f75b45-870b-4169-9641-ea27295ed1ef",
   "metadata": {},
   "source": [
    "Η πρόταση που θα διαλέξουμε για αυτή είναι:"
   ]
  },
  {
   "cell_type": "code",
   "execution_count": 10,
   "id": "9b296cfc-389e-4440-bedd-76b0acd41d10",
   "metadata": {},
   "outputs": [],
   "source": [
    "boolsent = \"love and not mathematics or not 10 and two or bilinear\" "
   ]
  },
  {
   "cell_type": "markdown",
   "id": "81427b53-3036-4de0-83a6-526c86249ab9",
   "metadata": {},
   "source": [
    "Την διαλέξαμε αυτή την πρόταση διότι έχει λέξεις που δεν ανήκουν και είναι περίπλοκη."
   ]
  },
  {
   "cell_type": "markdown",
   "id": "2f046e6e-4116-4e33-bdcd-87dd09b3e8eb",
   "metadata": {},
   "source": [
    "Ήδη γνωρίζουμε ότι το αποτέλεσμα πρέπει να είναι [0, 1], για να δούμε τι μας λέει η συνάρτηση."
   ]
  },
  {
   "cell_type": "code",
   "execution_count": 13,
   "id": "fb346aa2-f669-4d66-8ffe-e4cd7acc9474",
   "metadata": {},
   "outputs": [
    {
     "data": {
      "text/plain": [
       "[0, 1]"
      ]
     },
     "execution_count": 13,
     "metadata": {},
     "output_type": "execute_result"
    }
   ],
   "source": [
    "retrieved = boolean_search(boolsent)\n",
    "retrieved"
   ]
  },
  {
   "cell_type": "markdown",
   "id": "27f78866-2e67-4d89-8edb-f3dd28185270",
   "metadata": {},
   "source": [
    "Επειδή είναι μαθηματικά συνόλων δεν μπορεί να αστοχήσει εύκολα."
   ]
  },
  {
   "cell_type": "markdown",
   "id": "214ec55c-77a9-4973-a457-e80b3fa63b4a",
   "metadata": {},
   "source": [
    "Για να ελέγχουμε την ακρίβεια και ανάκληση της απάντησης."
   ]
  },
  {
   "cell_type": "code",
   "execution_count": 16,
   "id": "26aade6f-247d-4751-97df-eda3ed34cc73",
   "metadata": {},
   "outputs": [],
   "source": [
    "relevant = [0, 1]"
   ]
  },
  {
   "cell_type": "code",
   "execution_count": 17,
   "id": "63a0ee3a-f5d7-4dc6-8085-c63a598ee056",
   "metadata": {},
   "outputs": [
    {
     "data": {
      "text/plain": [
       "(1.0, 1.0)"
      ]
     },
     "execution_count": 17,
     "metadata": {},
     "output_type": "execute_result"
    }
   ],
   "source": [
    "retrieved_relevant_to_precision_recall(retrieved, relevant)"
   ]
  },
  {
   "cell_type": "markdown",
   "id": "f9474b39-5464-41a1-81ff-e8e44b81f619",
   "metadata": {},
   "source": [
    "Το πρώτο είναι η ακρίβεια και το δεύτερο η ανάκληση και η συνάρτηση τα πήγε καλά\n",
    "για να δούμε και το f score."
   ]
  },
  {
   "cell_type": "code",
   "execution_count": 19,
   "id": "29c513d1-b726-4c15-bc18-3ff423cbdc76",
   "metadata": {},
   "outputs": [
    {
     "data": {
      "text/plain": [
       "1.0"
      ]
     },
     "execution_count": 19,
     "metadata": {},
     "output_type": "execute_result"
    }
   ],
   "source": [
    "f_score(retrieved, relevant)"
   ]
  },
  {
   "cell_type": "markdown",
   "id": "0c98a53a-0f25-4e91-8288-93ab6362252f",
   "metadata": {},
   "source": [
    "Και εδώ βαθμολογήθηκε το μέγιστο."
   ]
  },
  {
   "cell_type": "markdown",
   "id": "972d1178-29d4-4b57-be93-c9b3dbfc76de",
   "metadata": {},
   "source": [
    "# Vector Space Model #"
   ]
  },
  {
   "cell_type": "markdown",
   "id": "02bc7471-5364-4063-85b5-e8be91576cc2",
   "metadata": {},
   "source": [
    "Τώρα θα δούμε την μέθοδο διανυσμάτων VSM."
   ]
  },
  {
   "cell_type": "code",
   "execution_count": 23,
   "id": "09b67855-eb72-4266-8b41-5fdacc523d27",
   "metadata": {},
   "outputs": [],
   "source": [
    "query = \"blah blah blah mathematics two love expressed obtained values\""
   ]
  },
  {
   "cell_type": "markdown",
   "id": "f075632f-20e1-48b2-8df4-13eb292852e0",
   "metadata": {},
   "source": [
    "Επιλέξαμε αυτή την φράση διότι είναι περιπλοκή και έχει λέξεις που δεν υπάρχουν στο ευρετήριο."
   ]
  },
  {
   "cell_type": "code",
   "execution_count": 25,
   "id": "727ecaf5-d219-4b1f-bfe9-dc9ee3858cc0",
   "metadata": {},
   "outputs": [],
   "source": [
    "from tf_idf import load_index\n",
    "from tf_idf import load_data\n",
    "index = load_index()\n",
    "docum = load_data()"
   ]
  },
  {
   "cell_type": "markdown",
   "id": "a25306dd-b183-4809-b525-36911272de27",
   "metadata": {},
   "source": [
    "Χρειαζόμαστε το ευρετήριο και τα κείμενα για υπολογίσουμε το διάνυσμα."
   ]
  },
  {
   "cell_type": "code",
   "execution_count": 27,
   "id": "e1be7c44-3372-4d7a-ab23-5b1b8ba2e821",
   "metadata": {},
   "outputs": [
    {
     "name": "stdout",
     "output_type": "stream",
     "text": [
      "Saving data to all_wikipedia_query.json\n",
      "Cosine Similarity:\n",
      " [0.02583278 0.00749943 0.00704627]\n"
     ]
    }
   ],
   "source": [
    "from vector_space_model import cosine_similarity\n",
    "retrieved = cosine_similarity(query, index, docum)"
   ]
  },
  {
   "cell_type": "markdown",
   "id": "c59a918e-27f8-4210-b649-fccea971526a",
   "metadata": {},
   "source": [
    "Με αυτό το αποτέλεσμα καταλαβαίνουμε ότι το πιο σχετικό είναι το πρώτο έγγραφο,\n",
    "αλλά ξέρουμε ότι τα έγραφα που πρέπει να επιστρέψει είναι το πρώτο και το δεύτερο.\n",
    "Για να δούμε πια επίπτωση θα έχει στην βαθμολόγηση του."
   ]
  },
  {
   "cell_type": "code",
   "execution_count": 29,
   "id": "548b4073-d047-4286-a379-6831e47104cc",
   "metadata": {},
   "outputs": [
    {
     "data": {
      "text/plain": [
       "[0]"
      ]
     },
     "execution_count": 29,
     "metadata": {},
     "output_type": "execute_result"
    }
   ],
   "source": [
    "retriev = list();\n",
    "for i, entry in enumerate(retrieved):\n",
    "    if entry > 0.01:\n",
    "        retriev.append(i)\n",
    "retriev"
   ]
  },
  {
   "cell_type": "code",
   "execution_count": 30,
   "id": "c2efdddb-913d-45f0-af7c-92f7710d2ea5",
   "metadata": {},
   "outputs": [
    {
     "data": {
      "text/plain": [
       "(1.0, 0.5)"
      ]
     },
     "execution_count": 30,
     "metadata": {},
     "output_type": "execute_result"
    }
   ],
   "source": [
    "retrieved_relevant_to_precision_recall(retriev, relevant)"
   ]
  },
  {
   "cell_type": "markdown",
   "id": "646393d0-d4a0-417a-ad6e-64383e7e9b9d",
   "metadata": {},
   "source": [
    "Αφού το ένα αρχείο που επέστρεψε είναι σωστό σαν ακρίβεια είναι σωστό,\n",
    "αλλά αφού δεν έφερε το άλλο σωστό έγγραφο, η ανάκληση είναι η μισή."
   ]
  },
  {
   "cell_type": "code",
   "execution_count": 32,
   "id": "bd2850be-6308-4c3c-82c7-008144c86710",
   "metadata": {},
   "outputs": [
    {
     "data": {
      "text/plain": [
       "0.6666666666666666"
      ]
     },
     "execution_count": 32,
     "metadata": {},
     "output_type": "execute_result"
    }
   ],
   "source": [
    "f_score(retriev, relevant)"
   ]
  },
  {
   "cell_type": "markdown",
   "id": "1c7fb97f-9809-4fb4-ae7c-55852e3f8722",
   "metadata": {},
   "source": [
    "Άρα λόγω τις αβεβαιότητας, μπορούμε να διαλέξουμε το όριο, το οποίο επηρεάζει και τα αποτελέσματα."
   ]
  },
  {
   "cell_type": "markdown",
   "id": "15dc346e-5324-460a-8983-ce67693ccd2b",
   "metadata": {},
   "source": [
    "# Propapilistic Model"
   ]
  },
  {
   "cell_type": "markdown",
   "id": "727c1316-a6e9-49b9-a848-b66cc0738053",
   "metadata": {},
   "source": [
    "Για αυτή την μέθοδο χρησιμοποιήσαμε την Okapi BM25, εφόσον είναι γνωστή και αξιόπιστη,\n",
    "με τις μεταβλητές που λειτουργούν καλυτέρα."
   ]
  },
  {
   "cell_type": "code",
   "execution_count": 36,
   "id": "add373ce-a8c1-4d27-91ec-8cd8f144a097",
   "metadata": {},
   "outputs": [
    {
     "name": "stdout",
     "output_type": "stream",
     "text": [
      "Warning: The following query terms were not found in the index: blah, blah, blah, love, blah, blah, blah, love, blah, blah, blah, love, blah, blah, blah, love\n"
     ]
    },
    {
     "data": {
      "text/plain": [
       "{0, 1, 2}"
      ]
     },
     "execution_count": 36,
     "metadata": {},
     "output_type": "execute_result"
    }
   ],
   "source": [
    "from okabi import okabi_search\n",
    "retrieved = okabi_search(index, docum, query)\n",
    "retrieved"
   ]
  },
  {
   "cell_type": "markdown",
   "id": "acb51e62-fa2c-43f5-a3ca-63ba42731ae7",
   "metadata": {},
   "source": [
    "Φαίνεται να έχει καλή ανάκληση αλλά κακή ακρίβεια."
   ]
  },
  {
   "cell_type": "code",
   "execution_count": 38,
   "id": "57cbba83-e443-4ea3-b38c-c69fd59d13ec",
   "metadata": {},
   "outputs": [
    {
     "data": {
      "text/plain": [
       "(0.6666666666666666, 1.0)"
      ]
     },
     "execution_count": 38,
     "metadata": {},
     "output_type": "execute_result"
    }
   ],
   "source": [
    "retrieved_relevant_to_precision_recall(retrieved, relevant)"
   ]
  },
  {
   "cell_type": "code",
   "execution_count": 39,
   "id": "f9d18f8f-4282-48fe-af64-1ccef0f01562",
   "metadata": {},
   "outputs": [
    {
     "data": {
      "text/plain": [
       "0.8"
      ]
     },
     "execution_count": 39,
     "metadata": {},
     "output_type": "execute_result"
    }
   ],
   "source": [
    "f_score(retrieved, relevant)"
   ]
  },
  {
   "cell_type": "markdown",
   "id": "33593b5a-47da-433a-a67e-424157b2fb3c",
   "metadata": {},
   "source": [
    "Επειδή η απάντηση έχει λάθη η βαθμολογία του είναι μειωμένη."
   ]
  }
 ],
 "metadata": {
  "kernelspec": {
   "display_name": "Python 3 (ipykernel)",
   "language": "python",
   "name": "python3"
  },
  "language_info": {
   "codemirror_mode": {
    "name": "ipython",
    "version": 3
   },
   "file_extension": ".py",
   "mimetype": "text/x-python",
   "name": "python",
   "nbconvert_exporter": "python",
   "pygments_lexer": "ipython3",
   "version": "3.12.4"
  }
 },
 "nbformat": 4,
 "nbformat_minor": 5
}
