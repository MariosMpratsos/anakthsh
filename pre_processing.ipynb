{
 "cells": [
  {
   "cell_type": "code",
   "execution_count": null,
   "id": "7cb8c487-9763-46d1-8a0e-cc4b4f1b7ed6",
   "metadata": {},
   "outputs": [],
   "source": [
    "import import_ipynb\n",
    "import nltk\n",
    "import re\n",
    "from nltk.corpus import stopwords\n",
    "from nltk.tokenize import word_tokenize\n",
    "\n",
    "# Αρχικοποίηση για Stop-words\n",
    "nltk.download('punkt')\n",
    "nltk.download('stopwords')\n",
    "stop_words = set(stopwords.words('english'))\n",
    "\n",
    "# Συνάρτηση για προεπεξεργασία του κειμένου\n",
    "def preprocess_text(text):\n",
    "    # Αφαίρεση ειδικών χαρακτήρων (μόνο γράμματα και αριθμοί)\n",
    "    text = re.sub(r'[^A-Za-z0-9\\s]', '', text)\n",
    "    # Tokenization: Διάσπαση κειμένου σε λέξεις\n",
    "    tokens = word_tokenize(text)\n",
    "    # Αφαίρεση stop-words\n",
    "    filtered_tokens = [word for word in tokens if word.lower() not in stop_words]\n",
    "    return filtered_tokens\n"
   ]
  }
 ],
 "metadata": {
  "kernelspec": {
   "display_name": "Python 3 (ipykernel)",
   "language": "python",
   "name": "python3"
  },
  "language_info": {
   "codemirror_mode": {
    "name": "ipython",
    "version": 3
   },
   "file_extension": ".py",
   "mimetype": "text/x-python",
   "name": "python",
   "nbconvert_exporter": "python",
   "pygments_lexer": "ipython3",
   "version": "3.12.4"
  }
 },
 "nbformat": 4,
 "nbformat_minor": 5
}
